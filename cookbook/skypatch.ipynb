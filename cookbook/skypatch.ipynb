{
 "cells": [
  {
   "cell_type": "markdown",
   "metadata": {},
   "source": [
    "# Atmospheric Simulation \n",
    "\n",
    "In this notebook you may find a really dummy atmospheric simulation performed with `pycal`. We use the LSPE/STRIP focal plane and we simulate the correlation level between the detectors. \n",
    "\n",
    "As you know, the atmosphere load is not uniform also for a CES. The telescope line of sight scan the atmospheric structure and the load fluctuations are recorded in the TOD. So, if you look the single detector TOD, you can see very large fluctuations due to the water vapor structures that are just seen by this specific detector.\n",
    "\n",
    "The temporal correlation is not the only correlated noise intruduced by the atmospheric load. The same vater wapor structures that was seen previously by that specific decetor, are seen also by others detectors in the focal planes. In this way we can find also a spatial correlation between the detector.\n",
    "\n",
    "### A recap:\n",
    "- The single detector TOD present time correlation due to the atmospheric structures (Time Correlation)\n",
    "- These atmospheric structures are seen also by the other detectors of the focal plane, so they introduce a really strong level of correlation between them. (Spatial Correlation)\n",
    "\n",
    "The most commons strategies to reduce the atmospheric effects are focused on mitigation of the spatial correlations between the detectors. This process can be done in different ways, using a rotating HWP (or more in general a polarization modulator) that works really good if your signal is polarized, and using the boresight axis of the telescope in the scanning strategy. We can see that only the correct use of the boresight axis can largely mitigated the atmospheric noise.\n"
   ]
  },
  {
   "cell_type": "code",
   "execution_count": 1,
   "metadata": {},
   "outputs": [],
   "source": [
    "import pycal\n",
    "import datetime\n",
    "import pandas as pd\n",
    "import numpy as np\n",
    "import seaborn as sn\n",
    "import matplotlib.pylab as plt\n",
    "from pycal.mpi import MPI, Comm, get_world\n",
    "from pycal.todmap import *\n",
    "from pycal import Data"
   ]
  },
  {
   "cell_type": "code",
   "execution_count": 2,
   "metadata": {},
   "outputs": [],
   "source": [
    "communicator=MPI.COMM_WORLD\n",
    "rank=communicator.Get_rank"
   ]
  },
  {
   "cell_type": "markdown",
   "metadata": {},
   "source": [
    "# Load the weather file\n",
    "\n",
    "The weather file was built out of MERRA2 reanalysis data, and provides the cumulative distrubution functions of the atmospheric parameters that characterize the atmosphere above the Tenerife island, in particular, above the Teide Observatory.\n",
    "\n",
    "Out of CDF, we can randomly extract the value of the PWV, wind speed and direction, ground temperature, pressure and all of these weight to the season of the year and the hour of the day"
   ]
  },
  {
   "cell_type": "code",
   "execution_count": 3,
   "metadata": {},
   "outputs": [],
   "source": [
    "year=2020\n",
    "month=4\n",
    "day=28\n",
    "hour=20\n",
    "primes=0\n",
    "seconds=0\n",
    "\n",
    "data=datetime.datetime(year, month, day, hour, primes, seconds)\n",
    "timestamp=data.timestamp()\n",
    "\n",
    "weather=pycal.Weather(\"weather_STRIP.fits\")\n",
    "weather.set_time(int(timestamp))"
   ]
  },
  {
   "cell_type": "code",
   "execution_count": 4,
   "metadata": {},
   "outputs": [
    {
     "name": "stdout",
     "output_type": "stream",
     "text": [
      "T0=292.967330703885\n",
      "W =8.270033582156639\n",
      "W_dir=-1.783042823141047\n"
     ]
    }
   ],
   "source": [
    "# H20 in atmpsphere\n",
    "pwv=weather.pwv\n",
    "ice=weather.ice_water\n",
    "liq=weather.liquid_water\n",
    "hum=weather.humidity\n",
    "\n",
    "# Temperaure and pressure\n",
    "t0=weather.surface_temperature\n",
    "t10=weather.air_temperature\n",
    "p0=weather.surface_pressure\n",
    "\n",
    "# Wind speed and direction\n",
    "wx=weather.west_wind\n",
    "wy=weather.south_wind\n",
    "w = np.sqrt(wx**2 + wy**2)\n",
    "w_dir = np.arctan2(wy, wx)\n",
    "\n",
    "print(\"T0=\"+str(t0))\n",
    "print(\"W =\"+str(w))\n",
    "print(\"W_dir=\"+str(w_dir))"
   ]
  },
  {
   "cell_type": "code",
   "execution_count": 5,
   "metadata": {},
   "outputs": [],
   "source": [
    "azmin=(0/180)*np.pi\n",
    "azmax=(359/180)*np.pi\n",
    "elmin=(60/180)*np.pi\n",
    "elmax=(80/180)*np.pi\n",
    "tmin=0.0\n",
    "tmax_sim=3600.0\n",
    "tmax_tod=tmax_sim/2\n",
    "lmin_center=0.01\n",
    "lmin_sigma=0.001\n",
    "lmax_center=10\n",
    "lmax_sigma=10\n",
    "w_center=w\n",
    "w_sigma=0\n",
    "wdir_center=w_dir\n",
    "#wdir_center=np.pi/2\n",
    "wdir_sigma=0\n",
    "z0_center=2000\n",
    "z0_sigma=0\n",
    "T0_center=t10\n",
    "T0_sigma=0\n",
    "zatm=40000.0\n",
    "zmax=2000.0\n",
    "xstep=20.0\n",
    "ystep=20.0\n",
    "zstep=20.0\n",
    "nelem_sim_max=100000\n",
    "verbosity=1\n",
    "comm=communicator\n",
    "key1=0\n",
    "key2=2**32+1+1\n",
    "counterval1=0\n",
    "counterval2=0\n",
    "cachedir=\"/home/algebrato/Progetti/CMB4G/libcal/cookbook/atm_cache\"\n",
    "rmin=0\n",
    "rmax=10000"
   ]
  },
  {
   "cell_type": "markdown",
   "metadata": {},
   "source": [
    "### The environment"
   ]
  },
  {
   "cell_type": "code",
   "execution_count": 6,
   "metadata": {},
   "outputs": [
    {
     "name": "stdout",
     "output_type": "stream",
     "text": [
      "<cal.Environment\n",
      "  Source code version = 0.0.0\n",
      "  Logging level = INFO\n",
      "  Handling enabled for 0 signals:\n",
      "  Max threads = 12\n",
      "  MPI build enabled\n",
      "  MPI runtime enabled\n",
      ">\n",
      "4.0\n"
     ]
    }
   ],
   "source": [
    "#if rank==0:\n",
    "env=pycal.Environment.get()\n",
    "print(env)\n",
    "print(tmax_tod/450)"
   ]
  },
  {
   "cell_type": "markdown",
   "metadata": {},
   "source": [
    "### Scanning Strategy"
   ]
  },
  {
   "cell_type": "code",
   "execution_count": 7,
   "metadata": {},
   "outputs": [],
   "source": [
    "# samples frequency\n",
    "fs_hz=20\n",
    "# timestamp in seconds (now we simulate 1h of observations)\n",
    "times=np.linspace(0,tmax_tod,int(tmax_tod)*fs_hz)\n",
    "\n",
    "# Now we perform a really dummy CES at 72deg of elevation\n",
    "# and with an AZ span of 10deg\n",
    "el=np.ones(int(tmax_tod)*fs_hz)*(72/180)*np.pi\n",
    "# Fixed telescope\n",
    "#az=np.ones(int(tmax_tod)*fs_hz)*(270/180)*np.pi\n",
    "\n",
    "# A dummy scanning strategy\n",
    "azmin_tod=(60/180)*np.pi\n",
    "azmax_tod=(315/180)*np.pi\n",
    "az = (0.5*(azmax_tod - azmin_tod)*np.sin((2*np.pi/500)*times)) + (0.5*(azmax_tod + azmin_tod))\n"
   ]
  },
  {
   "cell_type": "code",
   "execution_count": 8,
   "metadata": {},
   "outputs": [],
   "source": [
    "# The LSPE/STRIP Focalplane\n",
    "\n",
    "import yaml\n",
    "with open(r'/home/algebrato/.julia/dev/Stripeline/instrumentdb/strip_focal_plane.yaml') as file:\n",
    "    focalplane=yaml.full_load(file)\n",
    "\n",
    "detecotrs=focalplane['horns'].keys()\n",
    "tod=dict()\n",
    "pointings=dict()\n",
    "\n",
    "theta_i = 0\n",
    "theta_f = 90\n",
    "bor = (((45/2)*np.sin(2*np.pi/150*times)+(45/2))/180)*np.pi\n",
    "\n",
    "for i in detecotrs:\n",
    "    directions=focalplane['horns'][i]['orientation']\n",
    "    l=np.arctan(directions[0]/directions[2])\n",
    "    u=np.arctan(directions[1]/directions[2])\n",
    "    tod[i]={'signal':np.zeros(int(tmax_tod)*fs_hz), 'l':l, 'u':u}\n",
    "    pointings[i]={'az':az+(l*np.cos(bor)-u*np.sin(bor)), 'el':el+(u*np.cos(bor)+l*np.sin(bor))}\n",
    "    \n",
    "    \n",
    "obs=dict()\n",
    "obs['name'] = \"Strip_1H_Full_Focal_Plane\"\n",
    "obs['tod'] = tod\n",
    "obs['pointings'] = pointings\n",
    "\n",
    "comm=communicator\n",
    "data=pycal.Data(comm)\n",
    "\n",
    "data.obs.append(obs)"
   ]
  },
  {
   "cell_type": "code",
   "execution_count": 9,
   "metadata": {},
   "outputs": [
    {
     "data": {
      "text/plain": [
       "dict_keys(['I0', 'I1', 'I2', 'I3', 'I4', 'I5', 'I6', 'Y0', 'Y1', 'Y2', 'Y3', 'Y4', 'Y5', 'Y6', 'O0', 'O1', 'O2', 'O3', 'O4', 'O5', 'O6', 'R0', 'R1', 'R2', 'R3', 'R4', 'R5', 'R6', 'V0', 'V1', 'V2', 'V3', 'V4', 'V5', 'V6', 'B0', 'B1', 'B2', 'B3', 'B4', 'B5', 'B6', 'G0', 'G1', 'G2', 'G3', 'G4', 'G5', 'G6', 'W1', 'W2', 'W3', 'W4', 'W5', 'W6'])"
      ]
     },
     "execution_count": 9,
     "metadata": {},
     "output_type": "execute_result"
    }
   ],
   "source": [
    "detecotrs"
   ]
  },
  {
   "cell_type": "markdown",
   "metadata": {},
   "source": [
    "### Create the atmospheric simulation\n",
    "\n",
    "The `AtmSimMPI` creates an atmosphere out of the principat weather parameter like <br/>\n",
    "$L_0$, $l_0$ = The outer and inner correlation length, respectively. They depend on the energy injection and dissipation prosess within the atmosphere.<br/>\n",
    "$w$, $w_{dir}$ = The wind speed and directions. The wind blows the atmospheric structes rigidly across the telescope line of sight.<br/>\n",
    "$Z_0$ = The cut-off altitude of the water vapor<br/>\n",
    "$T_0$ = The ground temeperature. In `pycal` the vetial gradient of temperature is considered linear. The tropopause discontinituy is negligible due to the water-vapor cut-off.\n"
   ]
  },
  {
   "cell_type": "code",
   "execution_count": 10,
   "metadata": {},
   "outputs": [],
   "source": [
    "atm=pycal.AtmSimMPI(azmin, \n",
    "                    azmax, \n",
    "                    elmin, \n",
    "                    elmax, \n",
    "                    tmin, \n",
    "                    tmax_sim, \n",
    "                    lmin_center, \n",
    "                    lmin_sigma, \n",
    "                    lmax_center, \n",
    "                    lmax_sigma, \n",
    "                    w_center, \n",
    "                    w_sigma, \n",
    "                    wdir_center, \n",
    "                    wdir_sigma, \n",
    "                    z0_center, \n",
    "                    z0_sigma, \n",
    "                    T0_center, \n",
    "                    T0_sigma, \n",
    "                    zatm, \n",
    "                    zmax, \n",
    "                    xstep, \n",
    "                    ystep, \n",
    "                    zstep, \n",
    "                    nelem_sim_max, \n",
    "                    verbosity, \n",
    "                    comm, \n",
    "                    key1, \n",
    "                    key2, \n",
    "                    counterval1, \n",
    "                    counterval2, \n",
    "                    cachedir, \n",
    "                    rmin, \n",
    "                    rmax\n",
    ")"
   ]
  },
  {
   "cell_type": "code",
   "execution_count": 11,
   "metadata": {},
   "outputs": [],
   "source": [
    "# Start the atmosphere simulation (Evaluation of the correlations and wind evolutions)\n",
    "err = atm.simulate(True)\n",
    "communicator.Barrier()"
   ]
  },
  {
   "cell_type": "code",
   "execution_count": 12,
   "metadata": {},
   "outputs": [],
   "source": [
    "for i in detecotrs:\n",
    "    atm.observe(times, data.obs[0]['pointings'][i]['az'], data.obs[0]['pointings'][i]['el'], data.obs[0]['tod'][i]['signal'], -1)\n",
    "    communicator.Barrier()\n",
    "\n",
    "\n",
    "MPI.Finalize()\n"
   ]
  },
  {
   "cell_type": "code",
   "execution_count": 13,
   "metadata": {},
   "outputs": [],
   "source": [
    "det_ob=data.obs[0]['tod']\n",
    "tod_matrix=dict()\n",
    "\n",
    "for i in detecotrs:\n",
    "    tod_matrix[i]=det_ob=data.obs[0]['tod'][i]['signal']\n",
    "\n",
    "matrix = pd.DataFrame(tod_matrix)\n",
    "\n",
    "matrix.to_csv(r\"TOD_matrix.csv\",index = False, header=True)\n",
    "\n",
    "\n",
    "MTX_CX=matrix.corr()"
   ]
  },
  {
   "cell_type": "code",
   "execution_count": 14,
   "metadata": {},
   "outputs": [
    {
     "data": {
      "text/plain": [
       "Text(0, 0.5, 'El [rad.]')"
      ]
     },
     "execution_count": 14,
     "metadata": {},
     "output_type": "execute_result"
    },
    {
     "data": {
      "image/png": "[encoded data removed]",
      "text/plain": [
       "<Figure size 1440x626.4 with 3 Axes>"
      ]
     },
     "metadata": {
      "needs_background": "light"
     },
     "output_type": "display_data"
    }
   ],
   "source": [
    "plt.figure(1, figsize=(20,8.7))\n",
    "plt.subplot(121)\n",
    "ax=sn.heatmap(MTX_CX, annot=False, cmap='coolwarm', vmin=.2, vmax=1, square=True)\n",
    "ax.set(xlabel='Detectors name', ylabel='Detectors name', title=\"Correlation Level\")\n",
    "ax = plt.subplot(122)\n",
    "\n",
    "\n",
    "ll = np.array([])\n",
    "uu = np.array([])\n",
    "name = np.array([])\n",
    "\n",
    "idx=0\n",
    "idx_module=0\n",
    "for i in detecotrs:\n",
    "    l=data.obs[0]['tod'][i]['l']\n",
    "    u=data.obs[0]['tod'][i]['u']\n",
    "    \n",
    "    l_rot = l*np.cos(bor)-u*np.sin(bor)\n",
    "    u_rot = u*np.cos(bor)+l*np.sin(bor)\n",
    "    \n",
    "    ll=np.append(ll, l_rot)\n",
    "    uu=np.append(uu, u_rot)\n",
    "    name = np.append(name, i)\n",
    "    idx = idx + 1\n",
    "    if (idx % 7) == 0:\n",
    "        ax.scatter(ll, uu, s=150)\n",
    "        for j in range(0, 7):\n",
    "            ax.annotate(name[j], (ll[j]+0.0035, uu[j]))\n",
    "        idx = 0\n",
    "        ll = np.array([])\n",
    "        uu = np.array([])\n",
    "        name=np.array([])\n",
    "        idx_module = idx_module + 1\n",
    "plt.title(\"LSPE/STRIP Focal Plane - Sky projection\")\n",
    "plt.xlabel('Az [rad.]')\n",
    "plt.ylabel('El [rad.]')\n",
    "\n"
   ]
  },
  {
   "cell_type": "code",
   "execution_count": null,
   "metadata": {},
   "outputs": [],
   "source": []
  },
  {
   "cell_type": "code",
   "execution_count": 15,
   "metadata": {
    "scrolled": false
   },
   "outputs": [
    {
     "data": {
      "text/plain": [
       "[<matplotlib.lines.Line2D at 0x7f2f78aeecd0>]"
      ]
     },
     "execution_count": 15,
     "metadata": {},
     "output_type": "execute_result"
    },
    {
     "data": {
      "image/png": "[encoded data removed]",
      "text/plain": [
       "<Figure size 432x288 with 1 Axes>"
      ]
     },
     "metadata": {
      "needs_background": "light"
     },
     "output_type": "display_data"
    }
   ],
   "source": [
    "\n",
    "\n",
    "plt.plot(times, data.obs[0]['tod']['B4']['signal'])\n",
    "#plt.plot(times, data.obs[0]['tod']['O6']['signal'])"
   ]
  },
  {
   "cell_type": "code",
   "execution_count": 17,
   "metadata": {},
   "outputs": [],
   "source": [
    "abso_vec=pycal.atm_absorption_coefficient_vec(5000, 280, 101500, 5, 40, 50, 500)\n",
    "load_vec=pycal.atm_atmospheric_loading_vec(5000, 280, 101500, 5, 40, 50, 500)\n"
   ]
  },
  {
   "cell_type": "code",
   "execution_count": null,
   "metadata": {},
   "outputs": [],
   "source": [
    "plt.plot(np.linspace(40, 50, 500), abso_vec)\n",
    "#plt.plot(np.linspace(40, 50, 500), load_vec)"
   ]
  },
  {
   "cell_type": "code",
   "execution_count": null,
   "metadata": {},
   "outputs": [],
   "source": [
    "a=pycal.atm_absorption_coefficient(5000, 280, 101500, 2, 150)\n",
    "b=pycal.atm_atmospheric_loading(5000, 280, 101500, 2, 57)"
   ]
  },
  {
   "cell_type": "code",
   "execution_count": null,
   "metadata": {},
   "outputs": [],
   "source": [
    "print(a,b)"
   ]
  },
  {
   "cell_type": "code",
   "execution_count": null,
   "metadata": {},
   "outputs": [],
   "source": [
    "fmin=1/300\n",
    "fmax=12.5\n",
    "freq=np.linspace(fmin,fmax,int(len(tod_k)/2))\n",
    "tod_k_fft=np.fft.fftshift(np.fft.fft(tod_k))\n",
    "plt.loglog(freq,np.real(tod_k_fft[int(len(tod_k)/2)::])**2 + np.imag(tod_k_fft[int(len(tod_k)/2)::])**2)"
   ]
  },
  {
   "cell_type": "code",
   "execution_count": null,
   "metadata": {},
   "outputs": [],
   "source": [
    "1/170"
   ]
  },
  {
   "cell_type": "code",
   "execution_count": null,
   "metadata": {},
   "outputs": [],
   "source": [
    "1/0.012"
   ]
  },
  {
   "cell_type": "code",
   "execution_count": null,
   "metadata": {},
   "outputs": [],
   "source": [
    "1/25"
   ]
  },
  {
   "cell_type": "code",
   "execution_count": null,
   "metadata": {},
   "outputs": [],
   "source": [
    "1/0.04"
   ]
  },
  {
   "cell_type": "code",
   "execution_count": null,
   "metadata": {},
   "outputs": [],
   "source": [
    "tmax/5"
   ]
  },
  {
   "cell_type": "code",
   "execution_count": null,
   "metadata": {},
   "outputs": [],
   "source": [
    "def get_comm():\n",
    "    log = pycal.Logger.get()\n",
    "    env = pycal.Environment.get()\n",
    "    mpiworld, procs, rank = get_world()\n",
    "\n",
    "    # This is the 2-level toast communicator.  By default,\n",
    "    # there is just one group which spans MPI_COMM_WORLD.\n",
    "    comm = Comm(world=mpiworld)\n",
    "    return mpiworld, procs, rank, comm"
   ]
  },
  {
   "cell_type": "code",
   "execution_count": null,
   "metadata": {},
   "outputs": [],
   "source": [
    "mpiworld, procs, rank, comm = get_comm()\n",
    "atmsim=OpSimAtmosphere()"
   ]
  },
  {
   "cell_type": "code",
   "execution_count": null,
   "metadata": {},
   "outputs": [],
   "source": [
    "dati=Data(comm)\n",
    "dati.comm"
   ]
  },
  {
   "cell_type": "code",
   "execution_count": null,
   "metadata": {},
   "outputs": [],
   "source": [
    "atmsim.exec(dati)"
   ]
  },
  {
   "cell_type": "code",
   "execution_count": null,
   "metadata": {},
   "outputs": [],
   "source": [
    "from pycal.weather import *\n",
    "import astropy\n",
    "import datetime"
   ]
  },
  {
   "cell_type": "code",
   "execution_count": null,
   "metadata": {},
   "outputs": [],
   "source": [
    "alto_chor=Weather(\"weather_QUBIC.fits\",1,1)"
   ]
  },
  {
   "cell_type": "code",
   "execution_count": null,
   "metadata": {},
   "outputs": [],
   "source": [
    "days=np.linspace(0,200000,10000)\n",
    "hum=np.array([])\n",
    "\n",
    "for i in days:\n",
    "    alto_chor.set_time(int(i))\n",
    "    hum=np.append(hum, alto_chor.air_temperature)\n"
   ]
  },
  {
   "cell_type": "code",
   "execution_count": null,
   "metadata": {},
   "outputs": [],
   "source": [
    "plt.plot(days,hum)"
   ]
  },
  {
   "cell_type": "code",
   "execution_count": null,
   "metadata": {},
   "outputs": [],
   "source": [
    "days"
   ]
  },
  {
   "cell_type": "code",
   "execution_count": null,
   "metadata": {},
   "outputs": [],
   "source": [
    "datetime.datetime.utcfromtimestamp(51*365*24*60*60)"
   ]
  },
  {
   "cell_type": "code",
   "execution_count": null,
   "metadata": {},
   "outputs": [],
   "source": [
    "24*60*60"
   ]
  },
  {
   "cell_type": "code",
   "execution_count": null,
   "metadata": {},
   "outputs": [],
   "source": [
    "d=datetime.datetime.now()"
   ]
  },
  {
   "cell_type": "code",
   "execution_count": null,
   "metadata": {},
   "outputs": [],
   "source": [
    "from toast.todmap.atm import AtmSim\n",
    "import numpy as np\n",
    "import matplotlib.pylab as plt\n",
    "\n",
    "azmin=(14/180)*np.pi\n",
    "azmax=(36/180)*np.pi\n",
    "elmin=(60/180)*np.pi\n",
    "elmax=(80/180)*np.pi\n",
    "tmin=0.0\n",
    "tmax=500\n",
    "lmin_center=20\n",
    "lmin_sigma=0\n",
    "lmax_center=600\n",
    "lmax_sigma=0\n",
    "w_center=20\n",
    "w_sigma=0\n",
    "wdir_center=np.pi/6\n",
    "wdir_sigma=0\n",
    "z0_center=2000\n",
    "z0_sigma=0\n",
    "T0_center=280.0\n",
    "T0_sigma=5.0\n",
    "zatm=40000.0\n",
    "zmax=2000.0\n",
    "xstep=80.0\n",
    "ystep=80.0\n",
    "zstep=80.0\n",
    "nelem_sim_max=200\n",
    "verbosity=1\n",
    "comm=None\n",
    "key1=325\n",
    "key2=10000+int(tmax)*25\n",
    "counterval1=34567 \n",
    "counterval2=600000\n",
    "cachedir=\"/home/algebrato/Progetti/CMB4G/libcal/cookbook/atm_cache\"\n",
    "rmin=0\n",
    "rmax=10000\n",
    "\n",
    "fs_hz=25\n",
    "ss=(1/180)*np.pi\n",
    "times=np.linspace(0,tmax,int(tmax)*fs_hz)\n",
    "el=np.ones(int(tmax)*fs_hz)*(72/180)*np.pi\n",
    "# az=np.ones(int(tmax)*fs_hz)*(25/180)*np.pi\n",
    "\n",
    "azmin_tod=(20/180)*np.pi\n",
    "azmax_tod=(30/180)*np.pi\n",
    "az1=np.linspace(azmin_tod,azmax_tod,10*fs_hz)\n",
    "az=az1\n",
    "for i in range(0, int((tmax/10)-1)):\n",
    "    az1=np.flip(az1)\n",
    "    az=np.append(az, az1)\n",
    "tod0=np.zeros(int(tmax)*fs_hz)\n",
    "tod1=np.zeros(int(tmax)*fs_hz)\n",
    "tod2=np.zeros(int(tmax)*fs_hz)\n",
    "tod3=np.zeros(int(tmax)*fs_hz)\n",
    "tod4=np.zeros(int(tmax)*fs_hz)\n"
   ]
  },
  {
   "cell_type": "code",
   "execution_count": null,
   "metadata": {},
   "outputs": [],
   "source": [
    "atmosphere=AtmSim(azmin=azmin, azmax=azmax, elmin=elmin, elmax=elmax, tmin=tmin, tmax=tmax, lmin_center=lmin_center,  lmin_sigma=lmin_sigma, \n",
    "        lmax_center=lmax_center, lmax_sigma=lmax_sigma, w_center=w_center, w_sigma=w_sigma, wdir_center=wdir_center, \n",
    "        wdir_sigma=wdir_sigma, z0_center=z0_center, z0_sigma=z0_sigma, T0_center=T0_center, T0_sigma=T0_sigma, zatm=zatm, zmax=zmax,\n",
    "        xstep=xstep, ystep=ystep, zstep=zstep, nelem_sim_max=nelem_sim_max, comm=None, key1=key1, \n",
    "        key2=key2, counterval1=counterval1, counterval2=counterval2, cachedir=cachedir, rmin=rmin, rmax=rmax, write_debug=True)"
   ]
  },
  {
   "cell_type": "code",
   "execution_count": null,
   "metadata": {},
   "outputs": [],
   "source": [
    "atmosphere.simulate()"
   ]
  },
  {
   "cell_type": "code",
   "execution_count": null,
   "metadata": {},
   "outputs": [],
   "source": [
    "atmosphere.observe(times, az-((5/180)*np.pi), el, tod0)"
   ]
  },
  {
   "cell_type": "code",
   "execution_count": null,
   "metadata": {},
   "outputs": [],
   "source": [
    "atmosphere.observe(times, az, el-((5/180)*np.pi), tod1)\n",
    "atmosphere.observe(times, az, el, tod2)\n",
    "atmosphere.observe(times, az+((5/180)*np.pi), el, tod3)\n",
    "atmosphere.observe(times, az-((5/180)*np.pi), el, tod4)"
   ]
  },
  {
   "cell_type": "code",
   "execution_count": null,
   "metadata": {},
   "outputs": [],
   "source": [
    "plt.plot(tod0)"
   ]
  },
  {
   "cell_type": "code",
   "execution_count": null,
   "metadata": {},
   "outputs": [],
   "source": []
  },
  {
   "cell_type": "code",
   "execution_count": null,
   "metadata": {},
   "outputs": [],
   "source": [
    "plt.figure(figsize=(15,15))\n",
    "ll = np.array([])\n",
    "uu = np.array([])\n",
    "\n",
    "for i in detecotrs:\n",
    "    l=data.obs[0]['tod'][i]['l']\n",
    "    u=data.obs[0]['tod'][i]['u']\n",
    "    ll=np.append(ll, l)\n",
    "    uu=np.append(uu, u)\n",
    "    \n",
    "plt.plot(ll,uu, 'o')\n",
    "len(detecotrs)"
   ]
  },
  {
   "cell_type": "code",
   "execution_count": null,
   "metadata": {},
   "outputs": [],
   "source": [
    "idx=0\n",
    "for i in detecotrs:\n",
    "    print(i)\n",
    "    idx=idx+1\n",
    "    if (idx % 7) == 0:\n",
    "        print(\"PLOT\")\n"
   ]
  },
  {
   "cell_type": "code",
   "execution_count": null,
   "metadata": {},
   "outputs": [],
   "source": [
    "7 % 7"
   ]
  },
  {
   "cell_type": "code",
   "execution_count": 87,
   "metadata": {},
   "outputs": [
    {
     "ename": "ValueError",
     "evalue": "too many values to unpack (expected 2)",
     "output_type": "error",
     "traceback": [
      "\u001b[0;31m---------------------------------------------------------------------------\u001b[0m",
      "\u001b[0;31mValueError\u001b[0m                                Traceback (most recent call last)",
      "\u001b[0;32m<ipython-input-87-a2332f4b6137>\u001b[0m in \u001b[0;36m<module>\u001b[0;34m\u001b[0m\n\u001b[1;32m      1\u001b[0m \u001b[0mp\u001b[0m\u001b[0;34m=\u001b[0m\u001b[0mplt\u001b[0m\u001b[0;34m.\u001b[0m\u001b[0mscatter\u001b[0m\u001b[0;34m(\u001b[0m\u001b[0;34m[\u001b[0m\u001b[0;36m1\u001b[0m\u001b[0;34m,\u001b[0m\u001b[0;36m2\u001b[0m\u001b[0;34m,\u001b[0m\u001b[0;36m3\u001b[0m\u001b[0;34m]\u001b[0m\u001b[0;34m,\u001b[0m\u001b[0;34m[\u001b[0m\u001b[0;36m1\u001b[0m\u001b[0;34m,\u001b[0m\u001b[0;36m5\u001b[0m\u001b[0;34m,\u001b[0m\u001b[0;36m7\u001b[0m\u001b[0;34m]\u001b[0m\u001b[0;34m)\u001b[0m\u001b[0;34m\u001b[0m\u001b[0;34m\u001b[0m\u001b[0m\n\u001b[0;32m----> 2\u001b[0;31m \u001b[0mplt\u001b[0m\u001b[0;34m.\u001b[0m\u001b[0mannotate\u001b[0m\u001b[0;34m(\u001b[0m\u001b[0;34m(\u001b[0m\u001b[0;36m1\u001b[0m\u001b[0;34m,\u001b[0m\u001b[0;36m1\u001b[0m\u001b[0;34m)\u001b[0m\u001b[0;34m,\u001b[0m\u001b[0;34m'ciao'\u001b[0m\u001b[0;34m)\u001b[0m\u001b[0;34m\u001b[0m\u001b[0;34m\u001b[0m\u001b[0m\n\u001b[0m",
      "\u001b[0;32m/usr/lib/python3/dist-packages/matplotlib/pyplot.py\u001b[0m in \u001b[0;36mannotate\u001b[0;34m(s, xy, *args, **kwargs)\u001b[0m\n\u001b[1;32m   2355\u001b[0m \u001b[0;34m@\u001b[0m\u001b[0mdocstring\u001b[0m\u001b[0;34m.\u001b[0m\u001b[0mcopy\u001b[0m\u001b[0;34m(\u001b[0m\u001b[0mAxes\u001b[0m\u001b[0;34m.\u001b[0m\u001b[0mannotate\u001b[0m\u001b[0;34m)\u001b[0m\u001b[0;34m\u001b[0m\u001b[0;34m\u001b[0m\u001b[0m\n\u001b[1;32m   2356\u001b[0m \u001b[0;32mdef\u001b[0m \u001b[0mannotate\u001b[0m\u001b[0;34m(\u001b[0m\u001b[0ms\u001b[0m\u001b[0;34m,\u001b[0m \u001b[0mxy\u001b[0m\u001b[0;34m,\u001b[0m \u001b[0;34m*\u001b[0m\u001b[0margs\u001b[0m\u001b[0;34m,\u001b[0m \u001b[0;34m**\u001b[0m\u001b[0mkwargs\u001b[0m\u001b[0;34m)\u001b[0m\u001b[0;34m:\u001b[0m\u001b[0;34m\u001b[0m\u001b[0;34m\u001b[0m\u001b[0m\n\u001b[0;32m-> 2357\u001b[0;31m     \u001b[0;32mreturn\u001b[0m \u001b[0mgca\u001b[0m\u001b[0;34m(\u001b[0m\u001b[0;34m)\u001b[0m\u001b[0;34m.\u001b[0m\u001b[0mannotate\u001b[0m\u001b[0;34m(\u001b[0m\u001b[0ms\u001b[0m\u001b[0;34m,\u001b[0m \u001b[0mxy\u001b[0m\u001b[0;34m,\u001b[0m \u001b[0;34m*\u001b[0m\u001b[0margs\u001b[0m\u001b[0;34m,\u001b[0m \u001b[0;34m**\u001b[0m\u001b[0mkwargs\u001b[0m\u001b[0;34m)\u001b[0m\u001b[0;34m\u001b[0m\u001b[0;34m\u001b[0m\u001b[0m\n\u001b[0m\u001b[1;32m   2358\u001b[0m \u001b[0;34m\u001b[0m\u001b[0m\n\u001b[1;32m   2359\u001b[0m \u001b[0;34m\u001b[0m\u001b[0m\n",
      "\u001b[0;32m/usr/lib/python3/dist-packages/matplotlib/axes/_axes.py\u001b[0m in \u001b[0;36mannotate\u001b[0;34m(self, s, xy, *args, **kwargs)\u001b[0m\n\u001b[1;32m    776\u001b[0m     \u001b[0;34m@\u001b[0m\u001b[0mdocstring\u001b[0m\u001b[0;34m.\u001b[0m\u001b[0mdedent_interpd\u001b[0m\u001b[0;34m\u001b[0m\u001b[0;34m\u001b[0m\u001b[0m\n\u001b[1;32m    777\u001b[0m     \u001b[0;32mdef\u001b[0m \u001b[0mannotate\u001b[0m\u001b[0;34m(\u001b[0m\u001b[0mself\u001b[0m\u001b[0;34m,\u001b[0m \u001b[0ms\u001b[0m\u001b[0;34m,\u001b[0m \u001b[0mxy\u001b[0m\u001b[0;34m,\u001b[0m \u001b[0;34m*\u001b[0m\u001b[0margs\u001b[0m\u001b[0;34m,\u001b[0m \u001b[0;34m**\u001b[0m\u001b[0mkwargs\u001b[0m\u001b[0;34m)\u001b[0m\u001b[0;34m:\u001b[0m\u001b[0;34m\u001b[0m\u001b[0;34m\u001b[0m\u001b[0m\n\u001b[0;32m--> 778\u001b[0;31m         \u001b[0ma\u001b[0m \u001b[0;34m=\u001b[0m \u001b[0mmtext\u001b[0m\u001b[0;34m.\u001b[0m\u001b[0mAnnotation\u001b[0m\u001b[0;34m(\u001b[0m\u001b[0ms\u001b[0m\u001b[0;34m,\u001b[0m \u001b[0mxy\u001b[0m\u001b[0;34m,\u001b[0m \u001b[0;34m*\u001b[0m\u001b[0margs\u001b[0m\u001b[0;34m,\u001b[0m \u001b[0;34m**\u001b[0m\u001b[0mkwargs\u001b[0m\u001b[0;34m)\u001b[0m\u001b[0;34m\u001b[0m\u001b[0;34m\u001b[0m\u001b[0m\n\u001b[0m\u001b[1;32m    779\u001b[0m         \u001b[0ma\u001b[0m\u001b[0;34m.\u001b[0m\u001b[0mset_transform\u001b[0m\u001b[0;34m(\u001b[0m\u001b[0mmtransforms\u001b[0m\u001b[0;34m.\u001b[0m\u001b[0mIdentityTransform\u001b[0m\u001b[0;34m(\u001b[0m\u001b[0;34m)\u001b[0m\u001b[0;34m)\u001b[0m\u001b[0;34m\u001b[0m\u001b[0;34m\u001b[0m\u001b[0m\n\u001b[1;32m    780\u001b[0m         \u001b[0;32mif\u001b[0m \u001b[0;34m'clip_on'\u001b[0m \u001b[0;32min\u001b[0m \u001b[0mkwargs\u001b[0m\u001b[0;34m:\u001b[0m\u001b[0;34m\u001b[0m\u001b[0;34m\u001b[0m\u001b[0m\n",
      "\u001b[0;32m/usr/lib/python3/dist-packages/matplotlib/cbook/deprecation.py\u001b[0m in \u001b[0;36mwrapper\u001b[0;34m(*args, **kwargs)\u001b[0m\n\u001b[1;32m    294\u001b[0m                 f\"for the old name will be dropped %(removal)s.\")\n\u001b[1;32m    295\u001b[0m             \u001b[0mkwargs\u001b[0m\u001b[0;34m[\u001b[0m\u001b[0mnew\u001b[0m\u001b[0;34m]\u001b[0m \u001b[0;34m=\u001b[0m \u001b[0mkwargs\u001b[0m\u001b[0;34m.\u001b[0m\u001b[0mpop\u001b[0m\u001b[0;34m(\u001b[0m\u001b[0mold\u001b[0m\u001b[0;34m)\u001b[0m\u001b[0;34m\u001b[0m\u001b[0;34m\u001b[0m\u001b[0m\n\u001b[0;32m--> 296\u001b[0;31m         \u001b[0;32mreturn\u001b[0m \u001b[0mfunc\u001b[0m\u001b[0;34m(\u001b[0m\u001b[0;34m*\u001b[0m\u001b[0margs\u001b[0m\u001b[0;34m,\u001b[0m \u001b[0;34m**\u001b[0m\u001b[0mkwargs\u001b[0m\u001b[0;34m)\u001b[0m\u001b[0;34m\u001b[0m\u001b[0;34m\u001b[0m\u001b[0m\n\u001b[0m\u001b[1;32m    297\u001b[0m \u001b[0;34m\u001b[0m\u001b[0m\n\u001b[1;32m    298\u001b[0m     \u001b[0;31m# wrapper() must keep the same documented signature as func(): if we\u001b[0m\u001b[0;34m\u001b[0m\u001b[0;34m\u001b[0m\u001b[0;34m\u001b[0m\u001b[0m\n",
      "\u001b[0;32m/usr/lib/python3/dist-packages/matplotlib/text.py\u001b[0m in \u001b[0;36m__init__\u001b[0;34m(self, text, xy, xytext, xycoords, textcoords, arrowprops, annotation_clip, **kwargs)\u001b[0m\n\u001b[1;32m   2164\u001b[0m         \u001b[0;32mif\u001b[0m \u001b[0mxytext\u001b[0m \u001b[0;32mis\u001b[0m \u001b[0;32mNone\u001b[0m\u001b[0;34m:\u001b[0m\u001b[0;34m\u001b[0m\u001b[0;34m\u001b[0m\u001b[0m\n\u001b[1;32m   2165\u001b[0m             \u001b[0mxytext\u001b[0m \u001b[0;34m=\u001b[0m \u001b[0mself\u001b[0m\u001b[0;34m.\u001b[0m\u001b[0mxy\u001b[0m\u001b[0;34m\u001b[0m\u001b[0;34m\u001b[0m\u001b[0m\n\u001b[0;32m-> 2166\u001b[0;31m         \u001b[0mx\u001b[0m\u001b[0;34m,\u001b[0m \u001b[0my\u001b[0m \u001b[0;34m=\u001b[0m \u001b[0mxytext\u001b[0m\u001b[0;34m\u001b[0m\u001b[0;34m\u001b[0m\u001b[0m\n\u001b[0m\u001b[1;32m   2167\u001b[0m \u001b[0;34m\u001b[0m\u001b[0m\n\u001b[1;32m   2168\u001b[0m         \u001b[0mText\u001b[0m\u001b[0;34m.\u001b[0m\u001b[0m__init__\u001b[0m\u001b[0;34m(\u001b[0m\u001b[0mself\u001b[0m\u001b[0;34m,\u001b[0m \u001b[0mx\u001b[0m\u001b[0;34m,\u001b[0m \u001b[0my\u001b[0m\u001b[0;34m,\u001b[0m \u001b[0mtext\u001b[0m\u001b[0;34m,\u001b[0m \u001b[0;34m**\u001b[0m\u001b[0mkwargs\u001b[0m\u001b[0;34m)\u001b[0m\u001b[0;34m\u001b[0m\u001b[0;34m\u001b[0m\u001b[0m\n",
      "\u001b[0;31mValueError\u001b[0m: too many values to unpack (expected 2)"
     ]
    },
    {
     "data": {
      "image/png": "[encoded data removed]",
      "text/plain": [
       "<Figure size 432x288 with 1 Axes>"
      ]
     },
     "metadata": {
      "needs_background": "light"
     },
     "output_type": "display_data"
    }
   ],
   "source": [
    "p=plt.scatter([1,2,3],[1,5,7])\n",
    "plt.annotate((1,1),'ciao')"
   ]
  },
  {
   "cell_type": "code",
   "execution_count": 12,
   "metadata": {},
   "outputs": [],
   "source": [
    "theta=np.pi/2\n",
    "rot=np.matrix([[np.cos(theta), -np.sin(theta)],[np.sin(theta),np.cos(theta)]])"
   ]
  },
  {
   "cell_type": "code",
   "execution_count": 13,
   "metadata": {},
   "outputs": [
    {
     "data": {
      "text/plain": [
       "matrix([[1.000000e+00, 6.123234e-17]])"
      ]
     },
     "execution_count": 13,
     "metadata": {},
     "output_type": "execute_result"
    }
   ],
   "source": [
    "a=(0,1)\n",
    "\n",
    "a*rot"
   ]
  },
  {
   "cell_type": "code",
   "execution_count": 29,
   "metadata": {},
   "outputs": [
    {
     "data": {
      "text/plain": [
       "[<matplotlib.lines.Line2D at 0x7f319827ec10>]"
      ]
     },
     "execution_count": 29,
     "metadata": {},
     "output_type": "execute_result"
    },
    {
     "data": {
      "image/png": "[encoded data removed]",
      "text/plain": [
       "<Figure size 432x288 with 1 Axes>"
      ]
     },
     "metadata": {
      "needs_background": "light"
     },
     "output_type": "display_data"
    }
   ],
   "source": [
    "plt.plot(times, bor)"
   ]
  },
  {
   "cell_type": "code",
   "execution_count": null,
   "metadata": {},
   "outputs": [],
   "source": []
  }
 ],
 "metadata": {
  "kernelspec": {
   "display_name": "Python 3",
   "language": "python",
   "name": "python3"
  },
  "language_info": {
   "codemirror_mode": {
    "name": "ipython",
    "version": 3
   },
   "file_extension": ".py",
   "mimetype": "text/x-python",
   "name": "python",
   "nbconvert_exporter": "python",
   "pygments_lexer": "ipython3",
   "version": "3.8.4rc1"
  }
 },
 "nbformat": 4,
 "nbformat_minor": 4
}
