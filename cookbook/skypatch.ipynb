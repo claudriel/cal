{
 "cells": [
  {
   "cell_type": "code",
   "execution_count": 1,
   "metadata": {},
   "outputs": [],
   "source": [
    "import pycal\n",
    "import numpy as np\n",
    "import matplotlib.pylab as plt\n",
    "from pycal.mpi import MPI, Comm, get_world\n",
    "from pycal.todmap import *\n",
    "from pycal import Data"
   ]
  },
  {
   "cell_type": "code",
   "execution_count": 2,
   "metadata": {},
   "outputs": [
    {
     "name": "stdout",
     "output_type": "stream",
     "text": [
      "[0, 1, 2, 3, 4, 5, 6, 7, 8, 9, 10, 11]\n"
     ]
    }
   ],
   "source": [
    "import os\n",
    "import ipyparallel as ipp\n",
    "\n",
    "c = ipp.Client()\n",
    "v = c[:]\n",
    "print(c.ids)\n",
    "ar = c[:].apply_async(os.getpid)\n",
    "pid_map = ar.get_dict()\n",
    "view = c.load_balanced_view()"
   ]
  },
  {
   "cell_type": "code",
   "execution_count": 3,
   "metadata": {},
   "outputs": [],
   "source": [
    "communicator=MPI.COMM_WORLD\n",
    "rank=communicator.Get_rank"
   ]
  },
  {
   "cell_type": "code",
   "execution_count": 4,
   "metadata": {},
   "outputs": [],
   "source": [
    "azmin=(14/180)*np.pi\n",
    "azmax=(36/180)*np.pi\n",
    "elmin=(60/180)*np.pi\n",
    "elmax=(80/180)*np.pi\n",
    "tmin=0.0\n",
    "tmax=300.0\n",
    "lmin_center=20\n",
    "lmin_sigma=0\n",
    "lmax_center=600\n",
    "lmax_sigma=0\n",
    "w_center=20\n",
    "w_sigma=0\n",
    "wdir_center=np.pi/6\n",
    "wdir_sigma=0\n",
    "z0_center=2000\n",
    "z0_sigma=0\n",
    "T0_center=280.0\n",
    "T0_sigma=5.0\n",
    "zatm=40000.0\n",
    "zmax=2000.0\n",
    "xstep=80.0\n",
    "ystep=80.0\n",
    "zstep=80.0\n",
    "nelem_sim_max=200\n",
    "verbosity=1\n",
    "comm=communicator\n",
    "key1=325\n",
    "key2=10000+int(tmax)*25\n",
    "counterval1=34567 \n",
    "counterval2=600000\n",
    "cachedir=\"/tmp\"\n",
    "rmin=0\n",
    "rmax=10000\n",
    "\n",
    "\n",
    "if rank==0:\n",
    "    env=pycal.Environment.get()\n",
    "    print(env)\n",
    "    \n",
    "fs_hz=25\n",
    "ss=(1/180)*np.pi\n",
    "times=np.linspace(0,tmax,int(tmax)*fs_hz)\n",
    "el=np.ones(int(tmax)*fs_hz)*(72/180)*np.pi\n",
    "# az=np.ones(int(tmax)*fs_hz)*(25/180)*np.pi\n",
    "\n",
    "azmin_tod=(20/180)*np.pi\n",
    "azmax_tod=(30/180)*np.pi\n",
    "az1=np.linspace(azmin_tod,azmax_tod,10*fs_hz)\n",
    "az=az1\n",
    "for i in range(0, int((tmax/10)-1)):\n",
    "    az1=np.flip(az1)\n",
    "    az=np.append(az, az1)\n",
    "tod0=np.zeros(int(tmax)*fs_hz)\n",
    "tod1=np.zeros(int(tmax)*fs_hz)\n",
    "tod2=np.zeros(int(tmax)*fs_hz)\n",
    "tod3=np.zeros(int(tmax)*fs_hz)\n",
    "tod4=np.zeros(int(tmax)*fs_hz)"
   ]
  },
  {
   "cell_type": "code",
   "execution_count": 5,
   "metadata": {},
   "outputs": [],
   "source": [
    "atm=pycal.AtmSimMPI(azmin, \n",
    "                    azmax, \n",
    "                    elmin, \n",
    "                    elmax, \n",
    "                    tmin, \n",
    "                    tmax, \n",
    "                    lmin_center, \n",
    "                    lmin_sigma, \n",
    "                    lmax_center, \n",
    "                    lmax_sigma, \n",
    "                    w_center, \n",
    "                    w_sigma, \n",
    "                    wdir_center, \n",
    "                    wdir_sigma, \n",
    "                    z0_center, \n",
    "                    z0_sigma, \n",
    "                    T0_center, \n",
    "                    T0_sigma, \n",
    "                    zatm, \n",
    "                    zmax, \n",
    "                    xstep, \n",
    "                    ystep, \n",
    "                    zstep, \n",
    "                    nelem_sim_max, \n",
    "                    verbosity, \n",
    "                    comm, \n",
    "                    key1, \n",
    "                    key2, \n",
    "                    counterval1, \n",
    "                    counterval2, \n",
    "                    cachedir, \n",
    "                    rmin, \n",
    "                    rmax\n",
    ")"
   ]
  },
  {
   "cell_type": "code",
   "execution_count": 6,
   "metadata": {},
   "outputs": [],
   "source": [
    "atm2=pycal.AtmSimMPI(azmin, \n",
    "                    azmax, \n",
    "                    elmin, \n",
    "                    elmax, \n",
    "                    tmin, \n",
    "                    tmax, \n",
    "                    lmin_center, \n",
    "                    lmin_sigma, \n",
    "                    lmax_center, \n",
    "                    lmax_sigma, \n",
    "                    w_center, \n",
    "                    w_sigma, \n",
    "                    wdir_center, \n",
    "                    wdir_sigma, \n",
    "                    z0_center, \n",
    "                    z0_sigma, \n",
    "                    T0_center, \n",
    "                    T0_sigma, \n",
    "                    zatm, \n",
    "                    zmax, \n",
    "                    xstep, \n",
    "                    ystep, \n",
    "                    zstep, \n",
    "                    nelem_sim_max, \n",
    "                    verbosity, \n",
    "                    comm, \n",
    "                    0, \n",
    "                    8500, \n",
    "                    0, \n",
    "                    0, \n",
    "                    cachedir, \n",
    "                    rmin, \n",
    "                    rmax\n",
    ")"
   ]
  },
  {
   "cell_type": "code",
   "execution_count": 7,
   "metadata": {},
   "outputs": [],
   "source": [
    "err = atm.simulate(True)\n",
    "communicator.Barrier()"
   ]
  },
  {
   "cell_type": "code",
   "execution_count": 8,
   "metadata": {},
   "outputs": [],
   "source": [
    "err2 = atm2.simulate(True)\n",
    "communicator.Barrier()"
   ]
  },
  {
   "cell_type": "code",
   "execution_count": 9,
   "metadata": {},
   "outputs": [],
   "source": [
    "atm2.observe(times, az, el, tod2, -1)\n",
    "communicator.Barrier()"
   ]
  },
  {
   "cell_type": "code",
   "execution_count": 15,
   "metadata": {},
   "outputs": [],
   "source": [
    "atm.observe(times, az, el-((5/180)*np.pi), tod0, -1)\n",
    "communicator.Barrier()"
   ]
  },
  {
   "cell_type": "code",
   "execution_count": 16,
   "metadata": {},
   "outputs": [],
   "source": [
    "atm2.observe(times, az, el+((5/180)*np.pi), tod1, -1)\n",
    "communicator.Barrier()"
   ]
  },
  {
   "cell_type": "code",
   "execution_count": 17,
   "metadata": {},
   "outputs": [],
   "source": [
    "atm2.observe(times, az+((5/180)*np.pi), el, tod3, -1)\n",
    "communicator.Barrier()"
   ]
  },
  {
   "cell_type": "code",
   "execution_count": 18,
   "metadata": {},
   "outputs": [],
   "source": [
    "atm2.observe(times, az-((5/180)*np.pi), el, tod4, -1)\n",
    "communicator.Barrier()"
   ]
  },
  {
   "cell_type": "code",
   "execution_count": 14,
   "metadata": {},
   "outputs": [],
   "source": [
    "MPI.Finalize()"
   ]
  },
  {
   "cell_type": "code",
   "execution_count": 15,
   "metadata": {},
   "outputs": [
    {
     "data": {
      "text/plain": [
       "[]"
      ]
     },
     "execution_count": 15,
     "metadata": {},
     "output_type": "execute_result"
    },
    {
     "data": {
      "image/png": "[encoded data removed]",
      "text/plain": [
       "<Figure size 432x288 with 1 Axes>"
      ]
     },
     "metadata": {
      "needs_background": "light"
     },
     "output_type": "display_data"
    },
    {
     "data": {
      "image/png": "[encoded data removed]",
      "text/plain": [
       "<Figure size 432x288 with 1 Axes>"
      ]
     },
     "metadata": {
      "needs_background": "light"
     },
     "output_type": "display_data"
    }
   ],
   "source": [
    "plt.figure(1)\n",
    "plt.plot(az+((5/180)*np.pi))\n",
    "plt.plot(az)\n",
    "plt.plot(az-((5/180)*np.pi))\n",
    "plt.plot([0,60*25], [azmin, azmin],'r-')\n",
    "plt.plot([0,60*25], [azmax, azmax],'r-')\n",
    "\n",
    "plt.figure(2)\n",
    "plt.plot()"
   ]
  },
  {
   "cell_type": "code",
   "execution_count": 16,
   "metadata": {},
   "outputs": [
    {
     "name": "stdout",
     "output_type": "stream",
     "text": [
      "0.0048664100027272505\n"
     ]
    },
    {
     "data": {
      "text/plain": [
       "<matplotlib.colorbar.Colorbar at 0x7fbe65172070>"
      ]
     },
     "execution_count": 16,
     "metadata": {},
     "output_type": "execute_result"
    },
    {
     "data": {
      "image/png": "[encoded data removed]",
      "text/plain": [
       "<Figure size 432x288 with 1 Axes>"
      ]
     },
     "metadata": {
      "needs_background": "light"
     },
     "output_type": "display_data"
    },
    {
     "data": {
      "image/png": "[encoded data removed]",
      "text/plain": [
       "<Figure size 432x288 with 2 Axes>"
      ]
     },
     "metadata": {
      "needs_background": "light"
     },
     "output_type": "display_data"
    }
   ],
   "source": [
    "vmin = 1e30\n",
    "vmax = -1e30\n",
    "vmin = min(vmin, np.amin(tod0))\n",
    "vmax = max(vmax, np.amax(tod0))\n",
    "absorption=pycal.atm_absorption_coefficient(5400, 280, 101500, 2, 43)\n",
    "print(absorption)\n",
    "plt.figure(1)\n",
    "plt.plot(tod0*absorption/1000 - tod1*absorption/1000, '-')\n",
    "plt.plot(tod0*absorption/1000 - tod2*absorption/1000, '-')\n",
    "plt.plot(tod0*absorption/1000 - tod3*absorption/1000, '-')\n",
    "plt.plot(tod0*absorption/1000 - tod4*absorption/1000, '-')\n",
    "# plt.plot(tod1*absorption/1000, '-')\n",
    "# plt.plot(tod2*absorption/1000, '-')\n",
    "# plt.plot(tod3*absorption/1000, '-')\n",
    "# plt.plot(tod4*absorption/1000, '-')\n",
    "\n",
    "\n",
    "tod0_fft=np.fft.fftshift(np.fft.fft(tod0))\n",
    "tod1_fft=np.fft.fftshift(np.fft.fft(tod1))\n",
    "tod2_fft=np.fft.fftshift(np.fft.fft(tod2))\n",
    "tod3_fft=np.fft.fftshift(np.fft.fft(tod3))\n",
    "tod4_fft=np.fft.fftshift(np.fft.fft(tod4))\n",
    "\n",
    "cx00 = np.sum(np.abs(np.fft.ifftshift(np.fft.ifft(tod0_fft * np.conjugate(tod0_fft)))))\n",
    "\n",
    "cx10 = np.sum(np.abs(np.fft.ifftshift(np.fft.ifft(tod1_fft * np.conjugate(tod0_fft)))))\n",
    "cx20 = np.sum(np.abs(np.fft.ifftshift(np.fft.ifft(tod2_fft * np.conjugate(tod0_fft)))))\n",
    "cx30 = np.sum(np.abs(np.fft.ifftshift(np.fft.ifft(tod3_fft * np.conjugate(tod0_fft)))))\n",
    "cx40 = np.sum(np.abs(np.fft.ifftshift(np.fft.ifft(tod4_fft * np.conjugate(tod0_fft)))))\n",
    "\n",
    "cx11 = np.sum(np.abs(np.fft.ifftshift(np.fft.ifft(tod1_fft * np.conjugate(tod1_fft)))))\n",
    "cx21 = np.sum(np.abs(np.fft.ifftshift(np.fft.ifft(tod2_fft * np.conjugate(tod1_fft)))))\n",
    "cx31 = np.sum(np.abs(np.fft.ifftshift(np.fft.ifft(tod3_fft * np.conjugate(tod1_fft)))))\n",
    "cx41 = np.sum(np.abs(np.fft.ifftshift(np.fft.ifft(tod4_fft * np.conjugate(tod1_fft)))))\n",
    "\n",
    "cx12 = np.sum(np.abs(np.fft.ifftshift(np.fft.ifft(tod1_fft * np.conjugate(tod2_fft)))))\n",
    "cx22 = np.sum(np.abs(np.fft.ifftshift(np.fft.ifft(tod2_fft * np.conjugate(tod2_fft)))))\n",
    "cx32 = np.sum(np.abs(np.fft.ifftshift(np.fft.ifft(tod3_fft * np.conjugate(tod2_fft)))))\n",
    "cx42 = np.sum(np.abs(np.fft.ifftshift(np.fft.ifft(tod4_fft * np.conjugate(tod2_fft)))))\n",
    "\n",
    "cx13 = np.sum(np.abs(np.fft.ifftshift(np.fft.ifft(tod1_fft * np.conjugate(tod3_fft)))))\n",
    "cx23 = np.sum(np.abs(np.fft.ifftshift(np.fft.ifft(tod2_fft * np.conjugate(tod3_fft)))))\n",
    "cx33 = np.sum(np.abs(np.fft.ifftshift(np.fft.ifft(tod3_fft * np.conjugate(tod3_fft)))))\n",
    "cx43 = np.sum(np.abs(np.fft.ifftshift(np.fft.ifft(tod4_fft * np.conjugate(tod3_fft)))))\n",
    "\n",
    "cx14 = np.sum(np.abs(np.fft.ifftshift(np.fft.ifft(tod1_fft * np.conjugate(tod4_fft)))))\n",
    "cx24 = np.sum(np.abs(np.fft.ifftshift(np.fft.ifft(tod2_fft * np.conjugate(tod4_fft)))))\n",
    "cx34 = np.sum(np.abs(np.fft.ifftshift(np.fft.ifft(tod3_fft * np.conjugate(tod4_fft)))))\n",
    "cx44 = np.sum(np.abs(np.fft.ifftshift(np.fft.ifft(tod4_fft * np.conjugate(tod4_fft)))))\n",
    "\n",
    "cx01 = np.sum(np.abs(np.fft.ifftshift(np.fft.ifft(tod0_fft * np.conjugate(tod1_fft)))))\n",
    "cx02 = np.sum(np.abs(np.fft.ifftshift(np.fft.ifft(tod0_fft * np.conjugate(tod2_fft)))))\n",
    "cx03 = np.sum(np.abs(np.fft.ifftshift(np.fft.ifft(tod0_fft * np.conjugate(tod3_fft)))))\n",
    "cx04 = np.sum(np.abs(np.fft.ifftshift(np.fft.ifft(tod0_fft * np.conjugate(tod4_fft)))))\n",
    "\n",
    "\n",
    "fp_cx=np.zeros((5,5))\n",
    "# fp_cx[0,0] += cx00\n",
    "# fp_cx[0,1] += cx01\n",
    "# fp_cx[0,2] += cx02\n",
    "# fp_cx[0,3] += cx03\n",
    "# fp_cx[0,4] += cx04\n",
    "\n",
    "# fp_cx[1,0] += cx10\n",
    "# fp_cx[2,0] += cx20\n",
    "# fp_cx[3,0] += cx30\n",
    "# fp_cx[4,0] += cx40\n",
    "\n",
    "# fp_cx[1,1] += cx11\n",
    "# fp_cx[2,1] += cx21\n",
    "# fp_cx[3,1] += cx31\n",
    "# fp_cx[4,1] += cx41\n",
    "\n",
    "# fp_cx[1,2] += cx12\n",
    "# fp_cx[2,2] += cx22\n",
    "# fp_cx[3,2] += cx32\n",
    "# fp_cx[4,2] += cx42\n",
    "\n",
    "# fp_cx[1,3] += cx13\n",
    "# fp_cx[2,3] += cx23\n",
    "# fp_cx[3,3] += cx33\n",
    "# fp_cx[4,3] += cx43\n",
    "\n",
    "# fp_cx[1,4] += cx14\n",
    "# fp_cx[2,4] += cx24\n",
    "# fp_cx[3,4] += cx34\n",
    "# fp_cx[4,4] += cx44\n",
    "\n",
    "fp_cx[0,0]=np.corrcoef(tod0,tod1)[0,0]\n",
    "fp_cx[0,1]=np.corrcoef(tod0,tod1)[0,1]\n",
    "fp_cx[1,0]=np.corrcoef(tod0,tod1)[1,0]\n",
    "fp_cx[1,1]=np.corrcoef(tod0,tod1)[1,1]\n",
    "\n",
    "\n",
    "fp_cx[2,2]=np.corrcoef(tod2,tod3)[0,0]\n",
    "fp_cx[2,3]=np.corrcoef(tod2,tod3)[0,1]\n",
    "fp_cx[3,2]=np.corrcoef(tod2,tod3)[1,0]\n",
    "fp_cx[3,3]=np.corrcoef(tod2,tod3)[1,1]\n",
    "\n",
    "fp_cx[4,4]=np.corrcoef(tod4,tod0)[0,0]\n",
    "fp_cx[4,0]=np.corrcoef(tod4,tod0)[0,1]\n",
    "fp_cx[0,4]=np.corrcoef(tod4,tod0)[1,0]\n",
    "\n",
    "fp_cx[0,2]=np.corrcoef(tod0,tod2)[0,1]\n",
    "fp_cx[2,0]=np.corrcoef(tod0,tod2)[1,0]\n",
    "\n",
    "fp_cx[0,3]=np.corrcoef(tod0,tod3)[0,1]\n",
    "fp_cx[3,0]=np.corrcoef(tod0,tod3)[1,0]\n",
    "\n",
    "fp_cx[1,2]=np.corrcoef(tod1,tod2)[0,1]\n",
    "fp_cx[2,1]=np.corrcoef(tod1,tod2)[1,0]\n",
    "\n",
    "fp_cx[1,3]=np.corrcoef(tod1,tod3)[0,1]\n",
    "fp_cx[3,1]=np.corrcoef(tod1,tod3)[1,0]\n",
    "\n",
    "fp_cx[1,4]=np.corrcoef(tod1,tod4)[0,1]\n",
    "fp_cx[4,1]=np.corrcoef(tod1,tod4)[1,0]\n",
    "\n",
    "fp_cx[2,3]=np.corrcoef(tod2,tod3)[0,1]\n",
    "fp_cx[3,2]=np.corrcoef(tod2,tod3)[1,0]\n",
    "\n",
    "fp_cx[2,4]=np.corrcoef(tod2,tod4)[0,1]\n",
    "fp_cx[4,2]=np.corrcoef(tod2,tod4)[1,0]\n",
    "\n",
    "fp_cx[3,4]=np.corrcoef(tod3,tod4)[0,1]\n",
    "fp_cx[4,3]=np.corrcoef(tod3,tod4)[1,0]\n",
    "plt.figure(2)\n",
    "plt.imshow(fp_cx)\n",
    "plt.colorbar()"
   ]
  },
  {
   "cell_type": "code",
   "execution_count": 17,
   "metadata": {},
   "outputs": [
    {
     "data": {
      "text/plain": [
       "[<matplotlib.lines.Line2D at 0x7fbe650d5430>]"
      ]
     },
     "execution_count": 17,
     "metadata": {},
     "output_type": "execute_result"
    },
    {
     "data": {
      "image/png": "[encoded data removed]",
      "text/plain": [
       "<Figure size 432x288 with 1 Axes>"
      ]
     },
     "metadata": {
      "needs_background": "light"
     },
     "output_type": "display_data"
    }
   ],
   "source": [
    "plt.plot(tod0)\n",
    "plt.plot(tod1)"
   ]
  },
  {
   "cell_type": "code",
   "execution_count": 18,
   "metadata": {},
   "outputs": [],
   "source": [
    "abso_vec=pycal.atm_absorption_coefficient_vec(5000, 280, 101500, 5, 40, 50, 500)\n",
    "load_vec=pycal.atm_atmospheric_loading_vec(5000, 280, 101500, 5, 40, 50, 500)\n"
   ]
  },
  {
   "cell_type": "code",
   "execution_count": 19,
   "metadata": {},
   "outputs": [
    {
     "data": {
      "text/plain": [
       "[<matplotlib.lines.Line2D at 0x7fbe650b7190>]"
      ]
     },
     "execution_count": 19,
     "metadata": {},
     "output_type": "execute_result"
    },
    {
     "data": {
      "image/png": "[encoded data removed]",
      "text/plain": [
       "<Figure size 432x288 with 1 Axes>"
      ]
     },
     "metadata": {
      "needs_background": "light"
     },
     "output_type": "display_data"
    }
   ],
   "source": [
    "#plt.plot(np.linspace(40, 50, 500), abso_vec)\n",
    "plt.plot(np.linspace(40, 50, 500), load_vec)"
   ]
  },
  {
   "cell_type": "code",
   "execution_count": 20,
   "metadata": {},
   "outputs": [],
   "source": [
    "a=pycal.atm_absorption_coefficient(5000, 280, 101500, 2, 150)\n",
    "b=pycal.atm_atmospheric_loading(5000, 280, 101500, 2, 57)"
   ]
  },
  {
   "cell_type": "code",
   "execution_count": 21,
   "metadata": {},
   "outputs": [
    {
     "name": "stdout",
     "output_type": "stream",
     "text": [
      "0.06043288090984156 277.6659993620258\n"
     ]
    }
   ],
   "source": [
    "print(a,b)"
   ]
  },
  {
   "cell_type": "code",
   "execution_count": 22,
   "metadata": {},
   "outputs": [
    {
     "ename": "NameError",
     "evalue": "name 'tod_k' is not defined",
     "output_type": "error",
     "traceback": [
      "\u001b[0;31m---------------------------------------------------------------------------\u001b[0m",
      "\u001b[0;31mNameError\u001b[0m                                 Traceback (most recent call last)",
      "\u001b[0;32m<ipython-input-22-503cd41e4b39>\u001b[0m in \u001b[0;36m<module>\u001b[0;34m\u001b[0m\n\u001b[1;32m      1\u001b[0m \u001b[0mfmin\u001b[0m\u001b[0;34m=\u001b[0m\u001b[0;36m1\u001b[0m\u001b[0;34m/\u001b[0m\u001b[0;36m300\u001b[0m\u001b[0;34m\u001b[0m\u001b[0;34m\u001b[0m\u001b[0m\n\u001b[1;32m      2\u001b[0m \u001b[0mfmax\u001b[0m\u001b[0;34m=\u001b[0m\u001b[0;36m12.5\u001b[0m\u001b[0;34m\u001b[0m\u001b[0;34m\u001b[0m\u001b[0m\n\u001b[0;32m----> 3\u001b[0;31m \u001b[0mfreq\u001b[0m\u001b[0;34m=\u001b[0m\u001b[0mnp\u001b[0m\u001b[0;34m.\u001b[0m\u001b[0mlinspace\u001b[0m\u001b[0;34m(\u001b[0m\u001b[0mfmin\u001b[0m\u001b[0;34m,\u001b[0m\u001b[0mfmax\u001b[0m\u001b[0;34m,\u001b[0m\u001b[0mint\u001b[0m\u001b[0;34m(\u001b[0m\u001b[0mlen\u001b[0m\u001b[0;34m(\u001b[0m\u001b[0mtod_k\u001b[0m\u001b[0;34m)\u001b[0m\u001b[0;34m/\u001b[0m\u001b[0;36m2\u001b[0m\u001b[0;34m)\u001b[0m\u001b[0;34m)\u001b[0m\u001b[0;34m\u001b[0m\u001b[0;34m\u001b[0m\u001b[0m\n\u001b[0m\u001b[1;32m      4\u001b[0m \u001b[0mtod_k_fft\u001b[0m\u001b[0;34m=\u001b[0m\u001b[0mnp\u001b[0m\u001b[0;34m.\u001b[0m\u001b[0mfft\u001b[0m\u001b[0;34m.\u001b[0m\u001b[0mfftshift\u001b[0m\u001b[0;34m(\u001b[0m\u001b[0mnp\u001b[0m\u001b[0;34m.\u001b[0m\u001b[0mfft\u001b[0m\u001b[0;34m.\u001b[0m\u001b[0mfft\u001b[0m\u001b[0;34m(\u001b[0m\u001b[0mtod_k\u001b[0m\u001b[0;34m)\u001b[0m\u001b[0;34m)\u001b[0m\u001b[0;34m\u001b[0m\u001b[0;34m\u001b[0m\u001b[0m\n\u001b[1;32m      5\u001b[0m \u001b[0mplt\u001b[0m\u001b[0;34m.\u001b[0m\u001b[0mloglog\u001b[0m\u001b[0;34m(\u001b[0m\u001b[0mfreq\u001b[0m\u001b[0;34m,\u001b[0m\u001b[0mnp\u001b[0m\u001b[0;34m.\u001b[0m\u001b[0mreal\u001b[0m\u001b[0;34m(\u001b[0m\u001b[0mtod_k_fft\u001b[0m\u001b[0;34m[\u001b[0m\u001b[0mint\u001b[0m\u001b[0;34m(\u001b[0m\u001b[0mlen\u001b[0m\u001b[0;34m(\u001b[0m\u001b[0mtod_k\u001b[0m\u001b[0;34m)\u001b[0m\u001b[0;34m/\u001b[0m\u001b[0;36m2\u001b[0m\u001b[0;34m)\u001b[0m\u001b[0;34m:\u001b[0m\u001b[0;34m:\u001b[0m\u001b[0;34m]\u001b[0m\u001b[0;34m)\u001b[0m\u001b[0;34m**\u001b[0m\u001b[0;36m2\u001b[0m \u001b[0;34m+\u001b[0m \u001b[0mnp\u001b[0m\u001b[0;34m.\u001b[0m\u001b[0mimag\u001b[0m\u001b[0;34m(\u001b[0m\u001b[0mtod_k_fft\u001b[0m\u001b[0;34m[\u001b[0m\u001b[0mint\u001b[0m\u001b[0;34m(\u001b[0m\u001b[0mlen\u001b[0m\u001b[0;34m(\u001b[0m\u001b[0mtod_k\u001b[0m\u001b[0;34m)\u001b[0m\u001b[0;34m/\u001b[0m\u001b[0;36m2\u001b[0m\u001b[0;34m)\u001b[0m\u001b[0;34m:\u001b[0m\u001b[0;34m:\u001b[0m\u001b[0;34m]\u001b[0m\u001b[0;34m)\u001b[0m\u001b[0;34m**\u001b[0m\u001b[0;36m2\u001b[0m\u001b[0;34m)\u001b[0m\u001b[0;34m\u001b[0m\u001b[0;34m\u001b[0m\u001b[0m\n",
      "\u001b[0;31mNameError\u001b[0m: name 'tod_k' is not defined"
     ]
    }
   ],
   "source": [
    "fmin=1/300\n",
    "fmax=12.5\n",
    "freq=np.linspace(fmin,fmax,int(len(tod_k)/2))\n",
    "tod_k_fft=np.fft.fftshift(np.fft.fft(tod_k))\n",
    "plt.loglog(freq,np.real(tod_k_fft[int(len(tod_k)/2)::])**2 + np.imag(tod_k_fft[int(len(tod_k)/2)::])**2)"
   ]
  },
  {
   "cell_type": "code",
   "execution_count": 23,
   "metadata": {},
   "outputs": [
    {
     "data": {
      "text/plain": [
       "0.0058823529411764705"
      ]
     },
     "execution_count": 23,
     "metadata": {},
     "output_type": "execute_result"
    }
   ],
   "source": [
    "1/170"
   ]
  },
  {
   "cell_type": "code",
   "execution_count": 24,
   "metadata": {},
   "outputs": [
    {
     "data": {
      "text/plain": [
       "83.33333333333333"
      ]
     },
     "execution_count": 24,
     "metadata": {},
     "output_type": "execute_result"
    }
   ],
   "source": [
    "1/0.012"
   ]
  },
  {
   "cell_type": "code",
   "execution_count": 25,
   "metadata": {},
   "outputs": [
    {
     "data": {
      "text/plain": [
       "0.04"
      ]
     },
     "execution_count": 25,
     "metadata": {},
     "output_type": "execute_result"
    }
   ],
   "source": [
    "1/25"
   ]
  },
  {
   "cell_type": "code",
   "execution_count": 26,
   "metadata": {},
   "outputs": [
    {
     "data": {
      "text/plain": [
       "25.0"
      ]
     },
     "execution_count": 26,
     "metadata": {},
     "output_type": "execute_result"
    }
   ],
   "source": [
    "1/0.04"
   ]
  },
  {
   "cell_type": "code",
   "execution_count": 27,
   "metadata": {},
   "outputs": [
    {
     "data": {
      "text/plain": [
       "60.0"
      ]
     },
     "execution_count": 27,
     "metadata": {},
     "output_type": "execute_result"
    }
   ],
   "source": [
    "tmax/5"
   ]
  },
  {
   "cell_type": "code",
   "execution_count": 28,
   "metadata": {},
   "outputs": [],
   "source": [
    "def get_comm():\n",
    "    log = pycal.Logger.get()\n",
    "    env = pycal.Environment.get()\n",
    "    mpiworld, procs, rank = get_world()\n",
    "\n",
    "    # This is the 2-level toast communicator.  By default,\n",
    "    # there is just one group which spans MPI_COMM_WORLD.\n",
    "    comm = Comm(world=mpiworld)\n",
    "    return mpiworld, procs, rank, comm"
   ]
  },
  {
   "cell_type": "code",
   "execution_count": null,
   "metadata": {},
   "outputs": [],
   "source": [
    "mpiworld, procs, rank, comm = get_comm()\n",
    "atmsim=OpSimAtmosphere()"
   ]
  },
  {
   "cell_type": "code",
   "execution_count": 58,
   "metadata": {},
   "outputs": [
    {
     "data": {
      "text/plain": [
       "<cal.Comm\n",
       "  World MPI communicator = <mpi4py.MPI.Intracomm object at 0x7f6b2b743c90>\n",
       "  World MPI size = 1\n",
       "  World MPI rank = 0\n",
       "  Group MPI communicator = <mpi4py.MPI.Intracomm object at 0x7f6b2b743c90>\n",
       "  Group MPI size = 1\n",
       "  Group MPI rank = 0\n",
       "  Rank MPI communicator = <mpi4py.MPI.Intracomm object at 0x7f6b2b743c70>\n",
       ">"
      ]
     },
     "execution_count": 58,
     "metadata": {},
     "output_type": "execute_result"
    }
   ],
   "source": [
    "dati=Data(comm)\n",
    "dati.comm"
   ]
  },
  {
   "cell_type": "code",
   "execution_count": 59,
   "metadata": {},
   "outputs": [
    {
     "ename": "UnboundLocalError",
     "evalue": "local variable 'comm' referenced before assignment",
     "output_type": "error",
     "traceback": [
      "\u001b[0;31m---------------------------------------------------------------------------\u001b[0m",
      "\u001b[0;31mUnboundLocalError\u001b[0m                         Traceback (most recent call last)",
      "\u001b[0;32m<ipython-input-59-0d725f9e11ac>\u001b[0m in \u001b[0;36m<module>\u001b[0;34m\u001b[0m\n\u001b[0;32m----> 1\u001b[0;31m \u001b[0matmsim\u001b[0m\u001b[0;34m.\u001b[0m\u001b[0mexec\u001b[0m\u001b[0;34m(\u001b[0m\u001b[0mdati\u001b[0m\u001b[0;34m)\u001b[0m\u001b[0;34m\u001b[0m\u001b[0;34m\u001b[0m\u001b[0m\n\u001b[0m",
      "\u001b[0;32m~/.local/lib/python3.8/site-packages/pycal/timing.py\u001b[0m in \u001b[0;36mdf\u001b[0;34m(*args, **kwargs)\u001b[0m\n\u001b[1;32m     41\u001b[0m         \u001b[0;34m@\u001b[0m\u001b[0mwraps\u001b[0m\u001b[0;34m(\u001b[0m\u001b[0mf\u001b[0m\u001b[0;34m)\u001b[0m\u001b[0;34m\u001b[0m\u001b[0;34m\u001b[0m\u001b[0m\n\u001b[1;32m     42\u001b[0m         \u001b[0;32mdef\u001b[0m \u001b[0mdf\u001b[0m\u001b[0;34m(\u001b[0m\u001b[0;34m*\u001b[0m\u001b[0margs\u001b[0m\u001b[0;34m,\u001b[0m \u001b[0;34m**\u001b[0m\u001b[0mkwargs\u001b[0m\u001b[0;34m)\u001b[0m\u001b[0;34m:\u001b[0m\u001b[0;34m\u001b[0m\u001b[0;34m\u001b[0m\u001b[0m\n\u001b[0;32m---> 43\u001b[0;31m             \u001b[0;32mreturn\u001b[0m \u001b[0mf\u001b[0m\u001b[0;34m(\u001b[0m\u001b[0;34m*\u001b[0m\u001b[0margs\u001b[0m\u001b[0;34m,\u001b[0m \u001b[0;34m**\u001b[0m\u001b[0mkwargs\u001b[0m\u001b[0;34m)\u001b[0m\u001b[0;34m\u001b[0m\u001b[0;34m\u001b[0m\u001b[0m\n\u001b[0m\u001b[1;32m     44\u001b[0m \u001b[0;34m\u001b[0m\u001b[0m\n\u001b[1;32m     45\u001b[0m     \u001b[0;32mreturn\u001b[0m \u001b[0mdf\u001b[0m\u001b[0;34m\u001b[0m\u001b[0;34m\u001b[0m\u001b[0m\n",
      "\u001b[0;32m~/.local/lib/python3.8/site-packages/pycal/todmap/sim_det_atm.py\u001b[0m in \u001b[0;36mexec\u001b[0;34m(self, data)\u001b[0m\n\u001b[1;32m    331\u001b[0m \u001b[0;34m\u001b[0m\u001b[0m\n\u001b[1;32m    332\u001b[0m         \u001b[0;32mif\u001b[0m \u001b[0mself\u001b[0m\u001b[0;34m.\u001b[0m\u001b[0m_report_timing\u001b[0m\u001b[0;34m:\u001b[0m\u001b[0;34m\u001b[0m\u001b[0;34m\u001b[0m\u001b[0m\n\u001b[0;32m--> 333\u001b[0;31m             \u001b[0;32mif\u001b[0m \u001b[0mcomm\u001b[0m \u001b[0;32mis\u001b[0m \u001b[0;32mnot\u001b[0m \u001b[0;32mNone\u001b[0m\u001b[0;34m:\u001b[0m\u001b[0;34m\u001b[0m\u001b[0;34m\u001b[0m\u001b[0m\n\u001b[0m\u001b[1;32m    334\u001b[0m                 \u001b[0mcomm\u001b[0m\u001b[0;34m.\u001b[0m\u001b[0mBarrier\u001b[0m\u001b[0;34m(\u001b[0m\u001b[0;34m)\u001b[0m\u001b[0;34m\u001b[0m\u001b[0;34m\u001b[0m\u001b[0m\n\u001b[1;32m    335\u001b[0m             \u001b[0;32mif\u001b[0m \u001b[0mrank\u001b[0m \u001b[0;34m==\u001b[0m \u001b[0;36m0\u001b[0m\u001b[0;34m:\u001b[0m\u001b[0;34m\u001b[0m\u001b[0;34m\u001b[0m\u001b[0m\n",
      "\u001b[0;31mUnboundLocalError\u001b[0m: local variable 'comm' referenced before assignment"
     ]
    }
   ],
   "source": [
    "atmsim.exec(dati)"
   ]
  },
  {
   "cell_type": "code",
   "execution_count": 1,
   "metadata": {},
   "outputs": [],
   "source": [
    "from pycal.weather import *\n",
    "import astropy\n",
    "import datetime"
   ]
  },
  {
   "cell_type": "code",
   "execution_count": 2,
   "metadata": {},
   "outputs": [],
   "source": [
    "alto_chor=Weather(\"weather_QUBIC.fits\",1,1)"
   ]
  },
  {
   "cell_type": "code",
   "execution_count": 3,
   "metadata": {},
   "outputs": [],
   "source": [
    "days=np.linspace(0,200000,10000)\n",
    "hum=np.array([])\n",
    "\n",
    "for i in days:\n",
    "    alto_chor.set_time(int(i))\n",
    "    hum=np.append(hum, alto_chor.air_temperature)\n"
   ]
  },
  {
   "cell_type": "code",
   "execution_count": 6,
   "metadata": {},
   "outputs": [
    {
     "data": {
      "text/plain": [
       "[<matplotlib.lines.Line2D at 0x7fdf021294c0>]"
      ]
     },
     "execution_count": 6,
     "metadata": {},
     "output_type": "execute_result"
    },
    {
     "data": {
      "image/png": "[encoded data removed]",
      "text/plain": [
       "<Figure size 432x288 with 1 Axes>"
      ]
     },
     "metadata": {
      "needs_background": "light"
     },
     "output_type": "display_data"
    }
   ],
   "source": [
    "plt.plot(days,hum)"
   ]
  },
  {
   "cell_type": "code",
   "execution_count": 52,
   "metadata": {},
   "outputs": [
    {
     "data": {
      "text/plain": [
       "array([0.])"
      ]
     },
     "execution_count": 52,
     "metadata": {},
     "output_type": "execute_result"
    }
   ],
   "source": [
    "days"
   ]
  },
  {
   "cell_type": "code",
   "execution_count": 94,
   "metadata": {},
   "outputs": [
    {
     "data": {
      "text/plain": [
       "datetime.datetime(2020, 12, 19, 0, 0)"
      ]
     },
     "execution_count": 94,
     "metadata": {},
     "output_type": "execute_result"
    }
   ],
   "source": [
    "datetime.datetime.utcfromtimestamp(51*365*24*60*60)"
   ]
  },
  {
   "cell_type": "code",
   "execution_count": 90,
   "metadata": {},
   "outputs": [
    {
     "data": {
      "text/plain": [
       "1608336000"
      ]
     },
     "execution_count": 90,
     "metadata": {},
     "output_type": "execute_result"
    }
   ],
   "source": [
    "51*365*24*60*60"
   ]
  },
  {
   "cell_type": "code",
   "execution_count": 98,
   "metadata": {},
   "outputs": [],
   "source": [
    "d=datetime.datetime.now()"
   ]
  },
  {
   "cell_type": "code",
   "execution_count": null,
   "metadata": {},
   "outputs": [],
   "source": []
  }
 ],
 "metadata": {
  "kernelspec": {
   "display_name": "Python 3",
   "language": "python",
   "name": "python3"
  },
  "language_info": {
   "codemirror_mode": {
    "name": "ipython",
    "version": 3
   },
   "file_extension": ".py",
   "mimetype": "text/x-python",
   "name": "python",
   "nbconvert_exporter": "python",
   "pygments_lexer": "ipython3",
   "version": "3.8.4rc1"
  }
 },
 "nbformat": 4,
 "nbformat_minor": 4
}
